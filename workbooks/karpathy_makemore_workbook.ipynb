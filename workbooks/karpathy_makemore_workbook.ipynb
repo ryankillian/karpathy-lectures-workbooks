{
  "nbformat": 4,
  "nbformat_minor": 0,
  "metadata": {
    "colab": {
      "provenance": [],
      "toc_visible": true
    },
    "kernelspec": {
      "name": "python3",
      "display_name": "Python 3"
    },
    "language_info": {
      "name": "python"
    }
  },
  "cells": [
    {
      "cell_type": "markdown",
      "source": [
        "## Workbook Overview\n",
        "\n",
        "This workbook guides you through coding the makemore project from scratch, following four key lectures from Andrej Karpathy's Makemore series.\n",
        "\n",
        "### Who Is This For?\n",
        "\n",
        "- Those familiar with Karpathy’s \"Zero to Hero\" YouTube series.\n",
        "- Ideal for those who have coded along with the lectures and now want to test their understanding independently.\n",
        "\n",
        "### How to Use This Workbook\n",
        "\n",
        "- The workbook is divided into three main sections: **Coding Instructions**, **Coding Exercises**, and **Code Solutions**.\n",
        "- **Coding Instructions**: Provides a list of instructions for each part of the makemore project.\n",
        "- **Coding Exercises**: This is where you implement the code based on the provided instructions.\n",
        "- **Code Solutions**: Full code solutions are available here for reference or to check your work.\n",
        "- Use the Colab Table of Contents for easy navigation.\n",
        "\n",
        "### Purpose\n",
        "\n",
        "- Reinforce your understanding of NLP and deep learning concepts.\n",
        "- Progress from basic models to more complex architectures incrementally.\n",
        "- Focus on hands-on coding to internalize key mechanisms of language modeling.\n",
        "\n",
        "### Stages Overview and Lecture Mapping\n",
        "\n",
        "1. **Part 1 & 2 -> [Lecture 2](https://www.youtube.com/watch?v=PaCmpygFfXo):** Start with bigram language modeling and introduce a simple neural network with gradient descent.\n",
        "2. **Part 3 -> [Lecture 3](https://www.youtube.com/watch?v=TCH_1BHY58I):** Develop a multilayer perceptron (MLP) for more advanced language modeling.\n",
        "3. **Part 4 -> [Lecture 4](https://www.youtube.com/watch?v=P6sfmUTpUmc):** Modularize the code with custom layers and add Batch Normalization.\n",
        "4. **Part 5 -> [Lecture 6](https://www.youtube.com/watch?v=t3YJ5hKiMQ0):** Further modularize with an Embedding layer and a Sequential module, laying the groundwork for more complex architectures like [Lecture 7: GPT](https://www.youtube.com/watch?v=t3YJ5hKiMQ0).\n",
        "\n",
        "### Note\n",
        "\n",
        "Some advanced topics from the Makemore series are not included:\n",
        "\n",
        "- **Lecture 4:** Initialization strategies, gradient/activation diagnostics.\n",
        "- **Lecture 5:** Backprop Ninja (Note: Andrej's notebook for Lecture 5 is a stand-alone workbook and highly recommended. The insights on backpropagating through cross entropy loss and the gradient on logits are exceptional. [Watch video here](https://youtu.be/q8SA3rM6ckI?t=5568))\n",
        "- **Lecture 6:** WaveNet architecture.\n",
        "\n",
        "These topics were omitted to keep the workbook focused and manageable, emphasizing foundational concepts and code modularization."
      ],
      "metadata": {
        "id": "rn0bs1H28VlE"
      }
    },
    {
      "cell_type": "markdown",
      "source": [
        "# Coding Instructions"
      ],
      "metadata": {
        "id": "pslVQYnH8Ykj"
      }
    },
    {
      "cell_type": "code",
      "source": [
        "\n",
        "# Makemore (Building Character-Level Language Models)\n",
        "\n",
        "# Part 1: Bigram Language Modeling\n",
        "\n",
        "# 1. Download and load the \"names.txt\" dataset.\n",
        "#    - https://raw.githubusercontent.com/karpathy/makemore/master/names.txt\n",
        "# 2. Extract unique characters and create lookup dictionaries (`stoi` and `itos`).\n",
        "# 3. Count bigrams in the dataset and store them in a matrix.\n",
        "# 4. Normalize the bigram matrix to get a probability distribution.\n",
        "# 5. Sample new names from the bigram model using the probability matrix.\n",
        "# 6. Evaluate model quality by calculating negative log-likelihood (NLL).\n",
        "#   - NNL should be 2.45\n",
        "# 7. (Optional) Apply smoothing to the bigram model and re-evaluate.\n",
        "\n",
        "# Part 2: Simple Neural Network for Bigram Modeling with Gradient Descent\n",
        "\n",
        "# 1. Convert words into input-output bigram pairs.\n",
        "# 2. One-hot encode the input indices (`xs`).\n",
        "# 3. Initialize a basic neural network with a single linear layer.\n",
        "# 4. Train the model using gradient descent.\n",
        "#    - 100 steps. Loss should be close to 2.51\n",
        "# 5. Generate new names using the trained model.\n",
        "\n",
        "# Part 3: Multilayer Perceptron for Language Modeling\n",
        "\n",
        "# 1. Prepare the data by creating input-output pairs with context.\n",
        "#    - block_size. build_dataset(). shuffle words. train/val/test split.\n",
        "# 2. Initialize a multilayer perceptron (MLP) using `torch.randn()` for weights.\n",
        "# 3. Train the MLP with minibatches. 200k steps. Adjust the learning rate mid-training.\n",
        "# 4. Plot loss graph.\n",
        "# 5. Evaluate model performance. Loss: 2.14 <-> 2.18.\n",
        "# 6. Generate new samples.\n",
        "\n",
        "# Part 4: Modularizing with Custom Layers and Batch Normalization\n",
        "\n",
        "# 1. Define custom Linear, Tanh, and BatchNorm1d layers to modularize the network.\n",
        "# 2. Initialize the network with these custom layers, ensuring proper initialization.\n",
        "# 3. Train the model\n",
        "# 4. Set to evaluation mode, evaluate the models performance, and generate samples.\n",
        "\n",
        "\n",
        "# Part 5: Further Modularization with Embedding and Sequential Modules\n",
        "\n",
        "# 1. Introduce Embedding, Flatten, and Sequential layers to further modularize the code.\n",
        "# 2. Initialize the network using these layers.\n",
        "# 3. Train the model, evaluate, and generate samples.\n",
        "# 4. (Optional) Experiment with scaling the network and adjusting hyperparameters.\n"
      ],
      "metadata": {
        "id": "tp_KqZaUvh9m"
      },
      "execution_count": null,
      "outputs": []
    },
    {
      "cell_type": "markdown",
      "source": [
        "# Coding Exercises"
      ],
      "metadata": {
        "id": "xNqsb6JCDIad"
      }
    },
    {
      "cell_type": "markdown",
      "source": [
        "## Part 1: Bigram Language Modeling"
      ],
      "metadata": {
        "id": "oV7TbmVMDIad"
      }
    },
    {
      "cell_type": "code",
      "source": [
        "# 1. Download and load the \"names.txt\" dataset.\n",
        "#    - https://raw.githubusercontent.com/karpathy/makemore/master/names.txt\n",
        "# 2. Extract unique characters and create lookup dictionaries (`stoi` and `itos`).\n",
        "# 3. Count bigrams in the dataset and store them in a matrix.\n",
        "# 4. Normalize the bigram matrix to get a probability distribution.\n",
        "# 5. Sample new names from the bigram model using the probability matrix.\n",
        "# 6. Evaluate model quality by calculating negative log-likelihood (NLL).\n",
        "# 7. (Optional) Apply smoothing to the bigram model and re-evaluate.\n",
        "\n",
        "# Follow the instructions and code the solution."
      ],
      "metadata": {
        "id": "oYvvd9KlDIad"
      },
      "execution_count": null,
      "outputs": []
    },
    {
      "cell_type": "markdown",
      "source": [
        "## Part 2: Simple Neural Network"
      ],
      "metadata": {
        "id": "ZwEODkvyDIad"
      }
    },
    {
      "cell_type": "code",
      "source": [
        "# 1. Convert words into input-output bigram pairs.\n",
        "# 2. One-hot encode the input indices (`xs`).\n",
        "# 3. Initialize a basic neural network with a single linear layer.\n",
        "# 4. Train the model using gradient descent.\n",
        "#    - 100 steps. Loss should be close to 2.51\n",
        "# 5. Generate new names using the trained model.\n",
        "\n",
        "# Follow the instructions and code the solution."
      ],
      "metadata": {
        "id": "-drWvsECDIae"
      },
      "execution_count": null,
      "outputs": []
    },
    {
      "cell_type": "markdown",
      "source": [
        "## Part 3: Multilayer Perceptron"
      ],
      "metadata": {
        "id": "vKKwTURjDIae"
      }
    },
    {
      "cell_type": "code",
      "source": [
        "# 1. Prepare the data by creating input-output pairs with context.\n",
        "#    - block_size. build_dataset(). shuffle words. train/val/test split.\n",
        "# 2. Initialize a multilayer perceptron (MLP) using `torch.randn()` for weights.\n",
        "# 3. Train the MLP with minibatches. 200k steps. Adjust the learning rate mid-training.\n",
        "# 4. Plot loss graph.\n",
        "# 5. Evaluate model performance. Loss: 2.14 <-> 2.18.\n",
        "# 6. Generate new samples.\n",
        "\n",
        "# Follow the instructions and code the solution."
      ],
      "metadata": {
        "id": "H2vANfx1DIae"
      },
      "execution_count": null,
      "outputs": []
    },
    {
      "cell_type": "markdown",
      "source": [
        "## Part 4: Modularizing with Custom Layers and Batch Normalization"
      ],
      "metadata": {
        "id": "oDjh6k_lDIae"
      }
    },
    {
      "cell_type": "code",
      "source": [
        "# 1. Define custom Linear, Tanh, and BatchNorm1d layers to modularize the network.\n",
        "# 2. Initialize the network with these custom layers, ensuring proper initialization.\n",
        "# 3. Train the model\n",
        "# 4. Set to evaluation mode, evaluate the models performance, and generate samples.\n",
        "\n",
        "# Follow the instructions and code the solution."
      ],
      "metadata": {
        "id": "6fBUneOdDIae"
      },
      "execution_count": null,
      "outputs": []
    },
    {
      "cell_type": "markdown",
      "source": [
        "## Part 5: Further Modularization"
      ],
      "metadata": {
        "id": "wpfRwM56DIae"
      }
    },
    {
      "cell_type": "code",
      "source": [
        "# 1. Introduce Embedding, Flatten, and Sequential layers to further modularize the code.\n",
        "# 2. Initialize the network using these layers.\n",
        "# 3. Train the model, evaluate, and generate samples.\n",
        "# 4. (Optional) Experiment with scaling the network and adjusting hyperparameters.\n",
        "\n",
        "# Follow the instructions and code the solution."
      ],
      "metadata": {
        "id": "mUWEZ_lkDIae"
      },
      "execution_count": null,
      "outputs": []
    },
    {
      "cell_type": "markdown",
      "source": [
        "# Code Solutions"
      ],
      "metadata": {
        "id": "YPQ5OzAG8dvz"
      }
    },
    {
      "cell_type": "markdown",
      "source": [
        "## Part 1: Bigram Language Modeling"
      ],
      "metadata": {
        "id": "lu6gdLeE8f0R"
      }
    },
    {
      "cell_type": "code",
      "source": [
        "# 1. Download and load the \"names.txt\" dataset.\n",
        "#    - https://raw.githubusercontent.com/karpathy/makemore/master/names.txt\n",
        "# 2. Extract unique characters and create lookup dictionaries (`stoi` and `itos`).\n",
        "# 3. Count bigrams in the dataset and store them in a matrix.\n",
        "# 4. Normalize the bigram matrix to get a probability distribution.\n",
        "# 5. Sample new names from the bigram model using the probability matrix.\n",
        "# 6. Evaluate model quality by calculating negative log-likelihood (NLL).\n",
        "#   - NNL should be 2.45\n",
        "# 7. (Optional) Apply smoothing to the bigram model and re-evaluate."
      ],
      "metadata": {
        "id": "wAnq0QjOAMUS"
      },
      "execution_count": 1,
      "outputs": []
    },
    {
      "cell_type": "code",
      "source": [
        "! wget https://raw.githubusercontent.com/karpathy/makemore/master/names.txt"
      ],
      "metadata": {
        "colab": {
          "base_uri": "https://localhost:8080/"
        },
        "id": "pIBw6j7QGGd-",
        "outputId": "48632949-bc70-4289-99d5-8ac74d1a07c1"
      },
      "execution_count": 2,
      "outputs": [
        {
          "output_type": "stream",
          "name": "stdout",
          "text": [
            "--2024-08-15 08:56:30--  https://raw.githubusercontent.com/karpathy/makemore/master/names.txt\n",
            "Resolving raw.githubusercontent.com (raw.githubusercontent.com)... 185.199.108.133, 185.199.109.133, 185.199.110.133, ...\n",
            "Connecting to raw.githubusercontent.com (raw.githubusercontent.com)|185.199.108.133|:443... connected.\n",
            "HTTP request sent, awaiting response... 200 OK\n",
            "Length: 228145 (223K) [text/plain]\n",
            "Saving to: ‘names.txt’\n",
            "\n",
            "\rnames.txt             0%[                    ]       0  --.-KB/s               \rnames.txt           100%[===================>] 222.80K  --.-KB/s    in 0.04s   \n",
            "\n",
            "2024-08-15 08:56:30 (6.17 MB/s) - ‘names.txt’ saved [228145/228145]\n",
            "\n"
          ]
        }
      ]
    },
    {
      "cell_type": "code",
      "source": [
        "words = open('names.txt', 'r').read().splitlines()\n",
        "chars = sorted(set(\"\".join(words)))\n",
        "stoi = {ch:i+1 for i, ch in enumerate(chars)}\n",
        "stoi['.'] = 0\n",
        "itos = {i:ch for ch, i in stoi.items()}"
      ],
      "metadata": {
        "id": "kQEWTJVIGJDC"
      },
      "execution_count": 3,
      "outputs": []
    },
    {
      "cell_type": "code",
      "source": [
        "b = {}\n",
        "\n",
        "for w in words:\n",
        "    chs = ['.'] + list(w) + ['.']\n",
        "    for ch1, ch2 in zip(chs[:], chs[1:]):\n",
        "        bigram = (ch1, ch2)\n",
        "        b[bigram] = b.get(bigram, 0) + 1\n",
        "\n",
        "sorted(b.items(), key=lambda kv: -kv[1])[:3]"
      ],
      "metadata": {
        "colab": {
          "base_uri": "https://localhost:8080/"
        },
        "id": "mx-lyeDLGkJU",
        "outputId": "12230ea1-da1d-41fd-9f79-78bbcd5d46c2"
      },
      "execution_count": 4,
      "outputs": [
        {
          "output_type": "execute_result",
          "data": {
            "text/plain": [
              "[(('n', '.'), 6763), (('a', '.'), 6640), (('a', 'n'), 5438)]"
            ]
          },
          "metadata": {},
          "execution_count": 4
        }
      ]
    },
    {
      "cell_type": "code",
      "source": [
        "import torch"
      ],
      "metadata": {
        "id": "ApHhICc7H3-o"
      },
      "execution_count": 5,
      "outputs": []
    },
    {
      "cell_type": "code",
      "source": [
        "N = torch.zeros((27, 27))\n",
        "\n",
        "for w in words:\n",
        "    chs = ['.'] + list(w) + ['.']\n",
        "    for ch1, ch2 in zip(chs[:], chs[1:]):\n",
        "        ix1 = stoi[ch1]\n",
        "        ix2 = stoi[ch2]\n",
        "        N[ix1, ix2] += 1\n",
        "\n",
        "P = N/N.sum(dim=1, keepdim=True)\n",
        "\n",
        "print(N[0])\n",
        "print(P[0])"
      ],
      "metadata": {
        "colab": {
          "base_uri": "https://localhost:8080/"
        },
        "id": "8Wq1-hCGH9RI",
        "outputId": "2631bba4-2332-4f42-dc5a-3050fd903c77"
      },
      "execution_count": 6,
      "outputs": [
        {
          "output_type": "stream",
          "name": "stdout",
          "text": [
            "tensor([   0., 4410., 1306., 1542., 1690., 1531.,  417.,  669.,  874.,  591.,\n",
            "        2422., 2963., 1572., 2538., 1146.,  394.,  515.,   92., 1639., 2055.,\n",
            "        1308.,   78.,  376.,  307.,  134.,  535.,  929.])\n",
            "tensor([0.0000, 0.1377, 0.0408, 0.0481, 0.0528, 0.0478, 0.0130, 0.0209, 0.0273,\n",
            "        0.0184, 0.0756, 0.0925, 0.0491, 0.0792, 0.0358, 0.0123, 0.0161, 0.0029,\n",
            "        0.0512, 0.0642, 0.0408, 0.0024, 0.0117, 0.0096, 0.0042, 0.0167, 0.0290])\n"
          ]
        }
      ]
    },
    {
      "cell_type": "code",
      "source": [
        "for _ in range(10):\n",
        "\n",
        "    out = []\n",
        "    ix = 0\n",
        "    while True:\n",
        "        ix = torch.multinomial(P[ix], num_samples=1, replacement=True).item()\n",
        "        out.append(itos[ix])\n",
        "        if ix==0:\n",
        "            break\n",
        "\n",
        "    print(\"\".join(out))"
      ],
      "metadata": {
        "colab": {
          "base_uri": "https://localhost:8080/"
        },
        "id": "J6sD0iyMIj_t",
        "outputId": "a5284f10-f1a3-41f0-e1ae-b7177fea3b1f"
      },
      "execution_count": 7,
      "outputs": [
        {
          "output_type": "stream",
          "name": "stdout",
          "text": [
            "chubelaieccarzajamerinya.\n",
            "anka.\n",
            "mokaraei.\n",
            "ron.\n",
            "a.\n",
            "naronon.\n",
            "jiamiaa.\n",
            "sel.\n",
            "sablahishi.\n",
            "jin.\n"
          ]
        }
      ]
    },
    {
      "cell_type": "code",
      "source": [
        "log_likelihood = 0\n",
        "n = 0\n",
        "\n",
        "for w in words:\n",
        "    chs = ['.'] + list(w) + ['.']\n",
        "    for ch1, ch2 in zip(chs[:], chs[1:]):\n",
        "        ix1 = stoi[ch1]\n",
        "        ix2 = stoi[ch2]\n",
        "        prob = P[ix1, ix2]\n",
        "        logprob = prob.log()\n",
        "        log_likelihood += logprob\n",
        "        n += 1\n",
        "\n",
        "print(f\"nnl: {-log_likelihood}\")\n",
        "print(f\"nnl(mean): {-log_likelihood/n}\")\n"
      ],
      "metadata": {
        "colab": {
          "base_uri": "https://localhost:8080/"
        },
        "id": "b8NcpqhUJR83",
        "outputId": "51e3635a-e604-4d9d-c46c-ba86909e7338"
      },
      "execution_count": 8,
      "outputs": [
        {
          "output_type": "stream",
          "name": "stdout",
          "text": [
            "nnl: 559891.75\n",
            "nnl(mean): 2.454094171524048\n"
          ]
        }
      ]
    },
    {
      "cell_type": "code",
      "source": [
        "# 7. (Optional) Apply smoothing to the bigram model and re-evaluate.\n",
        "\n",
        "N = torch.zeros((27, 27))\n",
        "\n",
        "for w in words:\n",
        "    chs = ['.'] + list(w) + ['.']\n",
        "    for ch1, ch2 in zip(chs[:], chs[1:]):\n",
        "        ix1 = stoi[ch1]\n",
        "        ix2 = stoi[ch2]\n",
        "        N[ix1, ix2] += 1\n",
        "\n",
        "P = (N+1).float()/N.sum(dim=1, keepdim=True)\n",
        "\n",
        "log_likelihood = 0\n",
        "n = 0\n",
        "\n",
        "for w in words:\n",
        "    chs = ['.'] + list(w) + ['.']\n",
        "    for ch1, ch2 in zip(chs[:], chs[1:]):\n",
        "        ix1 = stoi[ch1]\n",
        "        ix2 = stoi[ch2]\n",
        "        prob = P[ix1, ix2]\n",
        "        logprob = prob.log()\n",
        "        log_likelihood += logprob\n",
        "        n += 1\n",
        "\n",
        "print(f\"nnl: {-log_likelihood}\")\n",
        "print(f\"nnl(mean): {-log_likelihood/n}\")\n"
      ],
      "metadata": {
        "colab": {
          "base_uri": "https://localhost:8080/"
        },
        "id": "cWD7PxfGU0i4",
        "outputId": "2f34288b-76f7-4806-8ef8-022703b14f8b"
      },
      "execution_count": 9,
      "outputs": [
        {
          "output_type": "stream",
          "name": "stdout",
          "text": [
            "nnl: 559322.6875\n",
            "nnl(mean): 2.4515998363494873\n"
          ]
        }
      ]
    },
    {
      "cell_type": "markdown",
      "source": [
        "## Part 2: Simple Neural Network"
      ],
      "metadata": {
        "id": "XLdEyq7KCVTB"
      }
    },
    {
      "cell_type": "code",
      "source": [
        "# 1. Convert words into input-output bigram pairs.\n",
        "# 2. One-hot encode the input indices (`xs`).\n",
        "# 3. Initialize a basic neural network with a single linear layer.\n",
        "# 4. Train the model using gradient descent.\n",
        "#    - 100 steps. Loss should be close to 2.51\n",
        "# 5. Generate new names using the trained model.\n",
        "\n",
        "xs = []\n",
        "ys = []\n",
        "\n",
        "for w in words:\n",
        "    chs = ['.'] + list(w) + ['.']\n",
        "    for ch1, ch2 in zip(chs[:], chs[1:]):\n",
        "        xs.append(stoi[ch1])\n",
        "        ys.append(stoi[ch2])\n",
        "\n",
        "xs = torch.tensor(xs)\n",
        "ys = torch.tensor(ys)\n",
        "\n",
        "n = len(xs)\n",
        "\n",
        "print(xs[:10])\n",
        "print(ys[:10])\n"
      ],
      "metadata": {
        "colab": {
          "base_uri": "https://localhost:8080/"
        },
        "id": "vFEXeil2Cb5C",
        "outputId": "bd33d194-ee49-4494-be50-bb950aab4aec"
      },
      "execution_count": 10,
      "outputs": [
        {
          "output_type": "stream",
          "name": "stdout",
          "text": [
            "tensor([ 0,  5, 13, 13,  1,  0, 15, 12,  9, 22])\n",
            "tensor([ 5, 13, 13,  1,  0, 15, 12,  9, 22,  9])\n"
          ]
        }
      ]
    },
    {
      "cell_type": "code",
      "source": [
        "import torch.nn.functional as F\n",
        "\n",
        "xenc = F.one_hot(xs, num_classes=27).float()\n",
        "\n",
        "xenc[:2]"
      ],
      "metadata": {
        "colab": {
          "base_uri": "https://localhost:8080/"
        },
        "id": "KKXnyxcQQQlH",
        "outputId": "9febebbb-e179-4257-a015-7575088e832c"
      },
      "execution_count": 11,
      "outputs": [
        {
          "output_type": "execute_result",
          "data": {
            "text/plain": [
              "tensor([[1., 0., 0., 0., 0., 0., 0., 0., 0., 0., 0., 0., 0., 0., 0., 0., 0., 0.,\n",
              "         0., 0., 0., 0., 0., 0., 0., 0., 0.],\n",
              "        [0., 0., 0., 0., 0., 1., 0., 0., 0., 0., 0., 0., 0., 0., 0., 0., 0., 0.,\n",
              "         0., 0., 0., 0., 0., 0., 0., 0., 0.]])"
            ]
          },
          "metadata": {},
          "execution_count": 11
        }
      ]
    },
    {
      "cell_type": "code",
      "source": [
        "W = torch.randn((27, 27), dtype=torch.float, requires_grad=True)"
      ],
      "metadata": {
        "id": "Gblhy_HKQ0lk"
      },
      "execution_count": 12,
      "outputs": []
    },
    {
      "cell_type": "code",
      "source": [
        "for i in range(100):\n",
        "\n",
        "    logits = xenc @ W\n",
        "    counts = torch.exp(logits)\n",
        "    probs = counts/counts.sum(dim=1, keepdim=True)\n",
        "    loss = -probs[torch.arange(n), ys].log().mean()\n",
        "\n",
        "    if i % 10 == 0:\n",
        "        print(loss.item())\n",
        "    W.grad = None\n",
        "\n",
        "    loss.backward()\n",
        "\n",
        "    W.data += -20 * W.grad"
      ],
      "metadata": {
        "colab": {
          "base_uri": "https://localhost:8080/"
        },
        "id": "UzVsZVJARCGu",
        "outputId": "d56a9b74-22d7-4b7c-b08e-a30556bcf1c2"
      },
      "execution_count": 13,
      "outputs": [
        {
          "output_type": "stream",
          "name": "stdout",
          "text": [
            "3.5945448875427246\n",
            "2.890761375427246\n",
            "2.712392807006836\n",
            "2.634859323501587\n",
            "2.591519832611084\n",
            "2.5640904903411865\n",
            "2.5453431606292725\n",
            "2.5317258834838867\n",
            "2.5213875770568848\n",
            "2.5132882595062256\n"
          ]
        }
      ]
    },
    {
      "cell_type": "code",
      "source": [
        "for _ in range(10):\n",
        "\n",
        "    out = []\n",
        "    ix = 0\n",
        "\n",
        "    while True:\n",
        "        xenc = F.one_hot(torch.tensor([ix]), num_classes=27).float()\n",
        "        logits = xenc @ W\n",
        "        counts = torch.exp(logits)\n",
        "        probs = counts/counts.sum(dim=1, keepdim=True)\n",
        "        ix = torch.multinomial(probs, num_samples=1, replacement=True).item()\n",
        "        out.append(itos[ix])\n",
        "        if ix ==0:\n",
        "            break\n",
        "    print(\"\".join(out))\n"
      ],
      "metadata": {
        "colab": {
          "base_uri": "https://localhost:8080/"
        },
        "id": "hQ4_EZfXVjEh",
        "outputId": "88b1fc85-cd1f-4db9-ea8d-238e24a9ae09"
      },
      "execution_count": 14,
      "outputs": [
        {
          "output_type": "stream",
          "name": "stdout",
          "text": [
            "gkoucana.\n",
            "ccam.\n",
            "ran.\n",
            "en.\n",
            "pzapldexkah.\n",
            "gi.\n",
            "esma.\n",
            "iecelvamycchgianin.\n",
            "da.\n",
            "sina.\n"
          ]
        }
      ]
    },
    {
      "cell_type": "markdown",
      "source": [
        "## Part 3: Multilayer Perceptron"
      ],
      "metadata": {
        "id": "RoM6Ony5ChTe"
      }
    },
    {
      "cell_type": "code",
      "source": [
        "# 1. Prepare the data by creating input-output pairs with context.\n",
        "#    - block_size. build_dataset(). shuffle words. train/val/test split.\n",
        "# 2. Initialize a multilayer perceptron (MLP) using `torch.randn()` for weights.\n",
        "# 3. Train the MLP with minibatches. 200k steps. Adjust the learning rate mid-training.\n",
        "# 4. Plot loss graph.\n",
        "# 5. Evaluate model performance. Loss: 2.14 <-> 2.18.\n",
        "# 6. Generate new samples.\n",
        "\n",
        "block_size = 3\n",
        "\n",
        "def build_dataset(words):\n",
        "\n",
        "    X = []\n",
        "    Y = []\n",
        "\n",
        "    for w in words:\n",
        "        context = [0] * block_size\n",
        "        for ch in w + '.':\n",
        "            ix = stoi[ch]\n",
        "            X.append(context)\n",
        "            Y.append(ix)\n",
        "            context = context[1:] + [ix]\n",
        "\n",
        "    X = torch.tensor(X)\n",
        "    Y = torch.tensor(Y)\n",
        "\n",
        "    return X, Y"
      ],
      "metadata": {
        "id": "FQAS6dqzCmer"
      },
      "execution_count": 15,
      "outputs": []
    },
    {
      "cell_type": "code",
      "source": [
        "import random\n",
        "\n",
        "random.shuffle(words)\n",
        "\n",
        "n1 = int(len(words) * 0.8)\n",
        "n2 = int(len(words) * 0.9)\n",
        "\n",
        "Xtr, Ytr = build_dataset(words[:n1])\n",
        "Xval, Yval = build_dataset(words[n1:n2])\n",
        "Xte, Yte = build_dataset(words[n2:])\n",
        "\n",
        "n = len(Xtr)\n",
        "\n",
        "print(len(Xtr), len(Xval), len(Xte))"
      ],
      "metadata": {
        "colab": {
          "base_uri": "https://localhost:8080/"
        },
        "id": "_Dlk_OG1caty",
        "outputId": "1e4455da-f969-4a6d-ce38-58d747ba0c60"
      },
      "execution_count": 16,
      "outputs": [
        {
          "output_type": "stream",
          "name": "stdout",
          "text": [
            "182540 22858 22748\n"
          ]
        }
      ]
    },
    {
      "cell_type": "code",
      "source": [
        "C = torch.randn(27, 10)\n",
        "W1 = torch.randn(30, 100)\n",
        "b1 = torch.randn(100)\n",
        "W2 = torch.randn(100, 27)\n",
        "b2 = torch.randn(27)\n",
        "\n",
        "parameters = [C, W1, b1, W2, b2]\n",
        "\n",
        "for p in parameters:\n",
        "    p.requires_grad=True\n",
        "\n",
        "print(f\"Number of parameters: {sum(p.nelement() for p in parameters)}\")\n"
      ],
      "metadata": {
        "colab": {
          "base_uri": "https://localhost:8080/"
        },
        "id": "UQaI3JhwdCrG",
        "outputId": "68bda3ea-5be1-49af-b739-ffe59fd7eaaf"
      },
      "execution_count": 17,
      "outputs": [
        {
          "output_type": "stream",
          "name": "stdout",
          "text": [
            "Number of parameters: 6097\n"
          ]
        }
      ]
    },
    {
      "cell_type": "code",
      "source": [
        "stepi = []\n",
        "lossi = []"
      ],
      "metadata": {
        "id": "utzJfdwXgO32"
      },
      "execution_count": 18,
      "outputs": []
    },
    {
      "cell_type": "code",
      "source": [
        "batch_size = 32\n",
        "max_steps = 200000\n",
        "print_steps = 10000\n",
        "\n",
        "for i in range(max_steps):\n",
        "\n",
        "    ix = torch.randint(n, (batch_size, ))\n",
        "\n",
        "    Xb = Xtr[ix]\n",
        "    Yb = Ytr[ix]\n",
        "\n",
        "    emb = C[Xb]\n",
        "    h = torch.tanh(emb.view(Xb.shape[0], -1) @ W1 + b1)\n",
        "    logits = h @ W2 + b2\n",
        "    loss = F.cross_entropy(logits, Yb)\n",
        "\n",
        "    if i % print_steps == 0:\n",
        "        print(f\"step: {i}, loss: {loss}\")\n",
        "\n",
        "    for p in parameters:\n",
        "        p.grad = None\n",
        "\n",
        "    loss.backward()\n",
        "\n",
        "    lr = 0.1 if i < 100000 else 0.01\n",
        "\n",
        "    for p in parameters:\n",
        "        p.data += -lr * p.grad\n",
        "\n",
        "    stepi.append(i)\n",
        "    lossi.append(loss.item())"
      ],
      "metadata": {
        "colab": {
          "base_uri": "https://localhost:8080/"
        },
        "id": "OMsSpPayd6QW",
        "outputId": "9d3e84d4-84a3-4cd9-e6e8-3bb8f4f7db4f"
      },
      "execution_count": 19,
      "outputs": [
        {
          "output_type": "stream",
          "name": "stdout",
          "text": [
            "step: 0, loss: 17.337295532226562\n",
            "step: 10000, loss: 2.1637043952941895\n",
            "step: 20000, loss: 2.631481409072876\n",
            "step: 30000, loss: 1.8925715684890747\n",
            "step: 40000, loss: 2.054985523223877\n",
            "step: 50000, loss: 2.0296449661254883\n",
            "step: 60000, loss: 3.0642309188842773\n",
            "step: 70000, loss: 2.4942116737365723\n",
            "step: 80000, loss: 2.2439377307891846\n",
            "step: 90000, loss: 1.793599009513855\n",
            "step: 100000, loss: 2.4949963092803955\n",
            "step: 110000, loss: 1.591558575630188\n",
            "step: 120000, loss: 2.485424041748047\n",
            "step: 130000, loss: 2.3732657432556152\n",
            "step: 140000, loss: 2.210106611251831\n",
            "step: 150000, loss: 2.1058366298675537\n",
            "step: 160000, loss: 2.1911792755126953\n",
            "step: 170000, loss: 2.0638315677642822\n",
            "step: 180000, loss: 1.8713964223861694\n",
            "step: 190000, loss: 2.404158115386963\n"
          ]
        }
      ]
    },
    {
      "cell_type": "code",
      "source": [
        "import matplotlib.pyplot as plt\n",
        "%matplotlib inline\n",
        "\n",
        "plt.plot(stepi, lossi)"
      ],
      "metadata": {
        "colab": {
          "base_uri": "https://localhost:8080/",
          "height": 448
        },
        "id": "grt-Vjd5gf0s",
        "outputId": "b0084912-e5e4-4ba3-b272-e460d503215c"
      },
      "execution_count": 20,
      "outputs": [
        {
          "output_type": "execute_result",
          "data": {
            "text/plain": [
              "[<matplotlib.lines.Line2D at 0x7c0fed1f3d90>]"
            ]
          },
          "metadata": {},
          "execution_count": 20
        },
        {
          "output_type": "display_data",
          "data": {
            "text/plain": [
              "<Figure size 640x480 with 1 Axes>"
            ],
            "image/png": "[encoded data removed]"
          },
          "metadata": {}
        }
      ]
    },
    {
      "cell_type": "code",
      "source": [
        "plt.plot(torch.tensor(lossi).view(-1, 1000).mean(1))"
      ],
      "metadata": {
        "colab": {
          "base_uri": "https://localhost:8080/",
          "height": 448
        },
        "id": "MEfZFlithExI",
        "outputId": "e288a07b-ab05-4b96-ef89-ff81d1da60a6"
      },
      "execution_count": 21,
      "outputs": [
        {
          "output_type": "execute_result",
          "data": {
            "text/plain": [
              "[<matplotlib.lines.Line2D at 0x7c0fed118040>]"
            ]
          },
          "metadata": {},
          "execution_count": 21
        },
        {
          "output_type": "display_data",
          "data": {
            "text/plain": [
              "<Figure size 640x480 with 1 Axes>"
            ],
            "image/png": "[encoded data removed]"
          },
          "metadata": {}
        }
      ]
    },
    {
      "cell_type": "code",
      "source": [
        "emb = C[Xtr]\n",
        "h = torch.tanh(emb.view(Xtr.shape[0], -1) @ W1 + b1)\n",
        "logits = h @ W2 + b2\n",
        "loss = F.cross_entropy(logits, Ytr)\n",
        "print(f\"Training loss: {loss}\")\n",
        "\n",
        "emb = C[Xval]\n",
        "h = torch.tanh(emb.view(Xval.shape[0], -1) @ W1 + b1)\n",
        "logits = h @ W2 + b2\n",
        "loss = F.cross_entropy(logits, Yval)\n",
        "print(f\"Validation loss: {loss}\")"
      ],
      "metadata": {
        "colab": {
          "base_uri": "https://localhost:8080/"
        },
        "id": "OgV4BaOrjXG-",
        "outputId": "0f563936-8f09-41db-afd4-d88301ce817b"
      },
      "execution_count": 22,
      "outputs": [
        {
          "output_type": "stream",
          "name": "stdout",
          "text": [
            "Training loss: 2.1474788188934326\n",
            "Validation loss: 2.184391736984253\n"
          ]
        }
      ]
    },
    {
      "cell_type": "code",
      "source": [
        "for _ in range(10):\n",
        "    out = []\n",
        "    context = [0] * block_size\n",
        "    while True:\n",
        "        emb = C[torch.tensor([context])]\n",
        "        h = torch.tanh(emb.view(emb.shape[0], -1) @ W1 + b1)\n",
        "        logits = h @ W2 + b2\n",
        "        probs = F.softmax(logits, dim=1)\n",
        "        ix = torch.multinomial(probs, num_samples=1, replacement=True).item()\n",
        "        out.append(itos[ix])\n",
        "        context = context[1:] + [ix]\n",
        "        if ix ==0:\n",
        "            break\n",
        "\n",
        "    print(\"\".join(out))"
      ],
      "metadata": {
        "colab": {
          "base_uri": "https://localhost:8080/"
        },
        "id": "tMQf43AzkkQh",
        "outputId": "50594009-6982-4fdb-b165-f43ba15c5029"
      },
      "execution_count": 23,
      "outputs": [
        {
          "output_type": "stream",
          "name": "stdout",
          "text": [
            "shed.\n",
            "lynn.\n",
            "marri.\n",
            "menen.\n",
            "bra.\n",
            "ilardeorafalvingel.\n",
            "ori.\n",
            "colithaleisyn.\n",
            "milio.\n",
            "chn.\n"
          ]
        }
      ]
    },
    {
      "cell_type": "markdown",
      "source": [
        "## Part 4: Modularizing with Custom Layers and Batch Normalization"
      ],
      "metadata": {
        "id": "mcN2q-mcCnIH"
      }
    },
    {
      "cell_type": "code",
      "source": [
        "# 1. Define custom Linear, Tanh, and BatchNorm1d layers to modularize the network.\n",
        "# 2. Initialize the network with these custom layers, ensuring proper initialization.\n",
        "# 3. Train the model\n",
        "# 4. Set to evaluation mode, evaluate the models performance, and generate samples."
      ],
      "metadata": {
        "id": "jVu2W38hCq2S"
      },
      "execution_count": 24,
      "outputs": []
    },
    {
      "cell_type": "code",
      "source": [
        "class Linear:\n",
        "\n",
        "    def __init__(self, fan_in, fan_out, bias=True):\n",
        "        self.weight = torch.rand(fan_in, fan_out) / fan_in**0.5\n",
        "        self.bias = torch.zeros(fan_out) if bias else None\n",
        "\n",
        "    def __call__(self, x):\n",
        "        out = x @ self.weight\n",
        "        if self.bias is not None:\n",
        "            out += self.bias\n",
        "        return out\n",
        "\n",
        "    def parameters(self):\n",
        "        return [self.weight] + ([] if self.bias is None else [self.bias])\n",
        "\n",
        "class Tanh:\n",
        "\n",
        "    def __call__(self, x):\n",
        "        return torch.tanh(x)\n",
        "\n",
        "    def parameters(self):\n",
        "        return []\n",
        "\n",
        "class BatchNorm1d:\n",
        "\n",
        "    def __init__(self, dim, eps=1e-5, momentum=0.1):\n",
        "\n",
        "        self.eps = eps\n",
        "        self.momentum = momentum\n",
        "        self.training = True\n",
        "\n",
        "        self.gamma = torch.ones(dim)\n",
        "        self.beta = torch.zeros(dim)\n",
        "\n",
        "        self.running_mean = torch.zeros(dim)\n",
        "        self.running_var = torch.ones(dim)\n",
        "\n",
        "    def __call__(self, x):\n",
        "\n",
        "        if self.training:\n",
        "            if x.ndim==2:\n",
        "                dim = 0\n",
        "            elif x.ndim==3:\n",
        "                dim = (0,1)\n",
        "            xmean = x.mean(dim, keepdim=True)\n",
        "            xvar = x.var(dim, keepdim=True)\n",
        "        else:\n",
        "            xmean = self.running_mean\n",
        "            xvar = self.running_var\n",
        "\n",
        "        xhat = (x - xmean) / torch.sqrt(xvar + self.eps)\n",
        "        out = self.gamma * xhat + self.beta\n",
        "\n",
        "        if self.training:\n",
        "            with torch.no_grad():\n",
        "                self.running_mean = (1 - self.momentum) * self.running_mean + self.momentum * xmean\n",
        "                self.running_var = (1 - self.momentum) * self.running_var + self.momentum * xvar\n",
        "\n",
        "        return out\n",
        "\n",
        "    def parameters(self):\n",
        "        return [self.gamma, self.beta]\n",
        "\n"
      ],
      "metadata": {
        "id": "c6DuCL7CpiRz"
      },
      "execution_count": 94,
      "outputs": []
    },
    {
      "cell_type": "code",
      "source": [
        "vocab_size = 27\n",
        "n_embd = 10\n",
        "n_hidden = 100\n",
        "\n",
        "C = torch.randn((vocab_size, n_embd))\n",
        "\n",
        "layers = [\n",
        "    Linear(n_embd * block_size, n_hidden, bias=False),\n",
        "    BatchNorm1d(n_hidden),\n",
        "    Tanh(),\n",
        "    Linear(n_hidden, vocab_size)\n",
        "]\n",
        "\n",
        "with torch.no_grad():\n",
        "    layers[-1].weight *= 0.1 # make last layer less confident\n",
        "\n",
        "parameters = [C] + [p for layer in layers for p in layer.parameters()]\n",
        "\n",
        "for p in parameters:\n",
        "    p.requires_grad=True\n",
        "\n",
        "print(f\"Number of parameters: {sum(p.nelement() for p in parameters)}\")\n"
      ],
      "metadata": {
        "colab": {
          "base_uri": "https://localhost:8080/"
        },
        "id": "gCvymWWrtTHE",
        "outputId": "f619c860-c1df-472f-dd8f-5e1b4186848c"
      },
      "execution_count": 95,
      "outputs": [
        {
          "output_type": "stream",
          "name": "stdout",
          "text": [
            "Number of parameters: 6197\n"
          ]
        }
      ]
    },
    {
      "cell_type": "code",
      "source": [
        "stepi = []\n",
        "lossi = []"
      ],
      "metadata": {
        "id": "i1o_K3LkvNss"
      },
      "execution_count": 96,
      "outputs": []
    },
    {
      "cell_type": "code",
      "source": [
        "batch_size = 32\n",
        "max_steps = 200000\n",
        "print_steps = 10000\n",
        "\n",
        "for i in range(max_steps):\n",
        "\n",
        "    ix = torch.randint(n, (batch_size, ))\n",
        "    Xb, Yb = Xtr[ix], Ytr[ix]\n",
        "\n",
        "    emb = C[Xb]\n",
        "    x = emb.view(emb.shape[0], -1)\n",
        "    for layer in layers:\n",
        "        x = layer(x)\n",
        "    loss = F.cross_entropy(x, Yb)\n",
        "\n",
        "    if i % print_steps == 0:\n",
        "        print(f\"step: {i}, loss: {loss}\")\n",
        "\n",
        "    for p in parameters:\n",
        "        p.grad = None\n",
        "\n",
        "    loss.backward()\n",
        "\n",
        "    lr = 0.1 if i < 100000 else 0.01\n",
        "\n",
        "    for p in parameters:\n",
        "        p.data += -lr * p.grad\n",
        "\n",
        "    stepi.append(i)\n",
        "    lossi.append(loss.item())"
      ],
      "metadata": {
        "colab": {
          "base_uri": "https://localhost:8080/"
        },
        "id": "2br-fSxWvRWQ",
        "outputId": "4858e8a5-aada-4e2b-d5e1-de3a1dda59b0"
      },
      "execution_count": 97,
      "outputs": [
        {
          "output_type": "stream",
          "name": "stdout",
          "text": [
            "step: 0, loss: 3.3010454177856445\n",
            "step: 10000, loss: 2.092689037322998\n",
            "step: 20000, loss: 2.2485523223876953\n",
            "step: 30000, loss: 2.227540969848633\n",
            "step: 40000, loss: 2.535057544708252\n",
            "step: 50000, loss: 1.665380835533142\n",
            "step: 60000, loss: 1.7730025053024292\n",
            "step: 70000, loss: 2.359799385070801\n",
            "step: 80000, loss: 2.022021532058716\n",
            "step: 90000, loss: 2.2773194313049316\n",
            "step: 100000, loss: 1.7213916778564453\n",
            "step: 110000, loss: 2.433248281478882\n",
            "step: 120000, loss: 1.984510898590088\n",
            "step: 130000, loss: 2.594165325164795\n",
            "step: 140000, loss: 1.904783010482788\n",
            "step: 150000, loss: 1.9925380945205688\n",
            "step: 160000, loss: 1.9361546039581299\n",
            "step: 170000, loss: 1.8748481273651123\n",
            "step: 180000, loss: 2.1125032901763916\n",
            "step: 190000, loss: 2.886442184448242\n"
          ]
        }
      ]
    },
    {
      "cell_type": "code",
      "source": [
        "import matplotlib.pyplot as plt\n",
        "%matplotlib inline\n",
        "\n",
        "plt.plot(torch.tensor(lossi).view(-1, 1000).mean(1))"
      ],
      "metadata": {
        "colab": {
          "base_uri": "https://localhost:8080/",
          "height": 448
        },
        "id": "QiD_E6TUvtIb",
        "outputId": "014ab013-a57a-4dfe-fa76-e1991387db6b"
      },
      "execution_count": 98,
      "outputs": [
        {
          "output_type": "execute_result",
          "data": {
            "text/plain": [
              "[<matplotlib.lines.Line2D at 0x7c0fde5d99c0>]"
            ]
          },
          "metadata": {},
          "execution_count": 98
        },
        {
          "output_type": "display_data",
          "data": {
            "text/plain": [
              "<Figure size 640x480 with 1 Axes>"
            ],
            "image/png": "[encoded data removed]"
          },
          "metadata": {}
        }
      ]
    },
    {
      "cell_type": "code",
      "source": [
        "for layer in layers:\n",
        "    if isinstance(layer, BatchNorm1d):\n",
        "        layer.training = False\n",
        "\n",
        "with torch.no_grad():\n",
        "    emb = C[Xtr]\n",
        "    x = emb.view(Xtr.shape[0], -1)\n",
        "    for layer in layers:\n",
        "        x = layer(x)\n",
        "    loss = F.cross_entropy(x, Ytr)\n",
        "    print(f\"Training loss: {loss}\")\n",
        "\n",
        "with torch.no_grad():\n",
        "    emb = C[Xval]\n",
        "    x = emb.view(Xval.shape[0], -1)\n",
        "    for layer in layers:\n",
        "        x = layer(x)\n",
        "    loss = F.cross_entropy(x, Yval)\n",
        "    print(f\"Validation loss: {loss}\")"
      ],
      "metadata": {
        "colab": {
          "base_uri": "https://localhost:8080/"
        },
        "id": "LijCwilkv_-y",
        "outputId": "4497a612-d41d-4aa8-e8fc-5216aaf81125"
      },
      "execution_count": 103,
      "outputs": [
        {
          "output_type": "stream",
          "name": "stdout",
          "text": [
            "Training loss: 2.1061084270477295\n",
            "Validation loss: 2.1458516120910645\n"
          ]
        }
      ]
    },
    {
      "cell_type": "code",
      "source": [
        "for layer in layers:\n",
        "    if isinstance(layer, BatchNorm1d):\n",
        "        layer.training = False\n",
        "\n",
        "for _ in range(10):\n",
        "    out = []\n",
        "    context = [0] * block_size\n",
        "    while True:\n",
        "        emb = C[torch.tensor([context])]\n",
        "        x = emb.view(emb.shape[0], -1)\n",
        "        for layer in layers:\n",
        "            x = layer(x)\n",
        "        probs = F.softmax(x, dim=1)\n",
        "        ix = torch.multinomial(probs, num_samples=1, replacement=True).item()\n",
        "        out.append(itos[ix])\n",
        "        context = context[1:] + [ix]\n",
        "        if ix == 0:\n",
        "            break\n",
        "\n",
        "    print(\"\".join(out))\n"
      ],
      "metadata": {
        "colab": {
          "base_uri": "https://localhost:8080/"
        },
        "id": "85EW1Ca7wWyF",
        "outputId": "c97429af-01bf-446f-aecf-0f979ea3605b"
      },
      "execution_count": 104,
      "outputs": [
        {
          "output_type": "stream",
          "name": "stdout",
          "text": [
            "raya.\n",
            "ava.\n",
            "ajah.\n",
            "ila.\n",
            "zaditcondi.\n",
            "lyn.\n",
            "hadeno.\n",
            "aso.\n",
            "moan.\n",
            "asharramilaiah.\n"
          ]
        }
      ]
    },
    {
      "cell_type": "markdown",
      "source": [
        "## Part 5: Further Modularization"
      ],
      "metadata": {
        "id": "xm2yecBuCu5x"
      }
    },
    {
      "cell_type": "code",
      "source": [
        "# 1. Introduce Embedding, Flatten, and Sequential layers to further modularize the code.\n",
        "# 2. Initialize the network using these layers.\n",
        "# 3. Train the model, evaluate, and generate samples.\n",
        "# 4. (Optional) Experiment with scaling the network and adjusting hyperparameters."
      ],
      "metadata": {
        "id": "O_wsGwv3CwcR"
      },
      "execution_count": 32,
      "outputs": []
    },
    {
      "cell_type": "code",
      "source": [
        "class Embedding:\n",
        "\n",
        "    def __init__(self, num_embeddings, embedding_dim):\n",
        "        self.weight = torch.randn(num_embeddings, embedding_dim)\n",
        "\n",
        "    def __call__(self, IX):\n",
        "        return self.weight[IX]\n",
        "\n",
        "    def parameters(self):\n",
        "        return [self.weight]\n",
        "\n",
        "class Sequential:\n",
        "\n",
        "    def __init__(self, layers):\n",
        "        self.layers = layers\n",
        "\n",
        "    def __call__(self, x):\n",
        "        for layer in self.layers:\n",
        "            x = layer(x)\n",
        "        return x\n",
        "\n",
        "    def parameters(self):\n",
        "        return [p for layer in self.layers for p in layer.parameters()]\n",
        "\n",
        "class Flatten:\n",
        "\n",
        "    def __call__(self, x):\n",
        "        B, T, C = x.shape\n",
        "        out = x.view(B, T * C)\n",
        "        return out\n",
        "\n",
        "    def parameters(self):\n",
        "        return []\n"
      ],
      "metadata": {
        "id": "fGfAsHx0xvzU"
      },
      "execution_count": 127,
      "outputs": []
    },
    {
      "cell_type": "code",
      "source": [
        "model = Sequential([\n",
        "    Embedding(vocab_size, n_embd),\n",
        "    Flatten(),\n",
        "    Linear(block_size * n_embd, n_hidden, bias=False),\n",
        "    BatchNorm1d(n_hidden),\n",
        "    Tanh(),\n",
        "    Linear(n_hidden, vocab_size, bias=False),\n",
        "    BatchNorm1d(vocab_size)\n",
        "])\n",
        "\n",
        "for p in model.parameters():\n",
        "    p.requires_grad = True\n",
        "\n",
        "with torch.no_grad():\n",
        "    model.layers[-1].gamma *= 0.1\n",
        "\n",
        "print(f\"Number of parameters: {sum(p.nelement() for p in model.parameters())}\")"
      ],
      "metadata": {
        "colab": {
          "base_uri": "https://localhost:8080/"
        },
        "id": "EsToJMSMzeQ4",
        "outputId": "9d347c84-fec3-46a8-fff0-57ff79d679dd"
      },
      "execution_count": 110,
      "outputs": [
        {
          "output_type": "stream",
          "name": "stdout",
          "text": [
            "Number of parameters: 6224\n"
          ]
        }
      ]
    },
    {
      "cell_type": "code",
      "source": [
        "stepi = []\n",
        "lossi = []"
      ],
      "metadata": {
        "id": "AvM24qN703gz"
      },
      "execution_count": 111,
      "outputs": []
    },
    {
      "cell_type": "code",
      "source": [
        "batch_size = 32\n",
        "max_steps = 200000\n",
        "print_steps = 10000\n",
        "\n",
        "for i in range(max_steps):\n",
        "\n",
        "    ix = torch.randint(n, (batch_size, ))\n",
        "    Xb, Yb = Xtr[ix], Ytr[ix]\n",
        "\n",
        "    logits = model(Xb)\n",
        "    loss = F.cross_entropy(logits, Yb)\n",
        "\n",
        "    if i % print_steps == 0:\n",
        "        print(f\"step: {i}, loss: {loss}\")\n",
        "\n",
        "    for p in model.parameters():\n",
        "        p.grad = None\n",
        "\n",
        "    loss.backward()\n",
        "\n",
        "    lr = 0.1 if i < 100000 else 0.01\n",
        "\n",
        "    for p in model.parameters():\n",
        "        p.data += -lr * p.grad\n",
        "\n",
        "    stepi.append(i)\n",
        "    lossi.append(loss.item())\n"
      ],
      "metadata": {
        "colab": {
          "base_uri": "https://localhost:8080/"
        },
        "id": "ZUA8qjTC0-Pe",
        "outputId": "0fb88d62-2758-4a86-eac4-1545c8a6b0bf"
      },
      "execution_count": 112,
      "outputs": [
        {
          "output_type": "stream",
          "name": "stdout",
          "text": [
            "step: 0, loss: 3.2949705123901367\n",
            "step: 10000, loss: 2.3530542850494385\n",
            "step: 20000, loss: 2.2018027305603027\n",
            "step: 30000, loss: 2.3210504055023193\n",
            "step: 40000, loss: 2.317556381225586\n",
            "step: 50000, loss: 2.086444616317749\n",
            "step: 60000, loss: 2.113703489303589\n",
            "step: 70000, loss: 2.3107290267944336\n",
            "step: 80000, loss: 1.9710311889648438\n",
            "step: 90000, loss: 1.955386996269226\n",
            "step: 100000, loss: 2.3803508281707764\n",
            "step: 110000, loss: 2.084139585494995\n",
            "step: 120000, loss: 2.0261926651000977\n",
            "step: 130000, loss: 2.247983694076538\n",
            "step: 140000, loss: 2.200082302093506\n",
            "step: 150000, loss: 2.2982263565063477\n",
            "step: 160000, loss: 2.290942430496216\n",
            "step: 170000, loss: 1.8327735662460327\n",
            "step: 180000, loss: 2.0207483768463135\n",
            "step: 190000, loss: 2.262930393218994\n"
          ]
        }
      ]
    },
    {
      "cell_type": "code",
      "source": [
        "for layer in model.layers:\n",
        "    if isinstance(layer, BatchNorm1d):\n",
        "        layer.training = False\n",
        "\n",
        "with torch.no_grad():\n",
        "    logits = model(Xtr)\n",
        "    loss = F.cross_entropy(logits, Ytr)\n",
        "    print(f\"Training loss: {loss}\")\n",
        "\n",
        "with torch.no_grad():\n",
        "    logits = model(Xval)\n",
        "    loss = F.cross_entropy(logits, Yval)\n",
        "    print(f\"Validation loss: {loss}\")"
      ],
      "metadata": {
        "colab": {
          "base_uri": "https://localhost:8080/"
        },
        "id": "gbtAyUJt3q54",
        "outputId": "0a71e22e-a65e-4ac9-f7e6-403f971cbec3"
      },
      "execution_count": 114,
      "outputs": [
        {
          "output_type": "stream",
          "name": "stdout",
          "text": [
            "Training loss: 2.1121103763580322\n",
            "Validation loss: 2.154146194458008\n"
          ]
        }
      ]
    },
    {
      "cell_type": "code",
      "source": [
        "for _ in range(10):\n",
        "    out = []\n",
        "    context = [0] * block_size\n",
        "    while True:\n",
        "        logits = model(torch.tensor([context]))\n",
        "        probs = F.softmax(logits, dim=1)\n",
        "        ix = torch.multinomial(probs, num_samples=1, replacement=True).item()\n",
        "        out.append(itos[ix])\n",
        "        context = context[1:] + [ix]\n",
        "        if ix ==0:\n",
        "            break\n",
        "\n",
        "    print(\"\".join(out))"
      ],
      "metadata": {
        "colab": {
          "base_uri": "https://localhost:8080/"
        },
        "id": "GBMH-uJc383j",
        "outputId": "fd720e60-afae-4354-9d7e-98d858da3efc"
      },
      "execution_count": 115,
      "outputs": [
        {
          "output_type": "stream",
          "name": "stdout",
          "text": [
            "roviyah.\n",
            "siaena.\n",
            "jkene.\n",
            "skyn.\n",
            "cazritzz.\n",
            "albiel.\n",
            "dura.\n",
            "kaslla.\n",
            "zaquis.\n",
            "sica.\n"
          ]
        }
      ]
    },
    {
      "cell_type": "code",
      "source": [
        "# 4. (Optional) Experiment with scaling the network and adjusting hyperparameters.\n",
        "\n",
        "block_size = 8\n",
        "\n",
        "def build_dataset(words):\n",
        "\n",
        "    X = []\n",
        "    Y = []\n",
        "\n",
        "    for w in words:\n",
        "        context = [0] * block_size\n",
        "        for ch in w + '.':\n",
        "            ix = stoi[ch]\n",
        "            X.append(context)\n",
        "            Y.append(ix)\n",
        "            context = context[1:] + [ix]\n",
        "\n",
        "    X = torch.tensor(X)\n",
        "    Y = torch.tensor(Y)\n",
        "\n",
        "    return X, Y\n",
        "\n",
        "import random\n",
        "\n",
        "random.shuffle(words)\n",
        "\n",
        "n1 = int(len(words) * 0.8)\n",
        "n2 = int(len(words) * 0.9)\n",
        "\n",
        "Xtr, Ytr = build_dataset(words[:n1])\n",
        "Xval, Yval = build_dataset(words[n1:n2])\n",
        "Xte, Yte = build_dataset(words[n2:])\n",
        "\n",
        "n = len(Xtr)\n",
        "\n",
        "print(len(Xtr), len(Xval), len(Xte))\n",
        "\n"
      ],
      "metadata": {
        "colab": {
          "base_uri": "https://localhost:8080/"
        },
        "id": "vxwZbC7NChbf",
        "outputId": "de5f1dba-fd39-4120-b223-eb57ec4debf3"
      },
      "execution_count": 128,
      "outputs": [
        {
          "output_type": "stream",
          "name": "stdout",
          "text": [
            "182421 22829 22896\n"
          ]
        }
      ]
    },
    {
      "cell_type": "code",
      "source": [
        "n_embd = 24\n",
        "n_hidden = 64\n",
        "\n",
        "model = Sequential([\n",
        "    Embedding(vocab_size, n_embd),\n",
        "    Flatten(),\n",
        "    Linear(block_size * n_embd, n_hidden, bias=False),BatchNorm1d(n_hidden),Tanh(),\n",
        "    Linear(n_hidden, n_hidden, bias=False),BatchNorm1d(n_hidden), Tanh(),\n",
        "    Linear(n_hidden, n_hidden, bias=False), BatchNorm1d(n_hidden), Tanh(),\n",
        "    Linear(n_hidden, vocab_size, bias=False),\n",
        "    BatchNorm1d(vocab_size)\n",
        "])\n",
        "\n",
        "for p in model.parameters():\n",
        "    p.requires_grad = True\n",
        "\n",
        "with torch.no_grad():\n",
        "    model.layers[-1].gamma *= 0.1\n",
        "\n",
        "print(f\"Number of parameters: {sum(p.nelement() for p in model.parameters())}\")\n",
        "\n"
      ],
      "metadata": {
        "colab": {
          "base_uri": "https://localhost:8080/"
        },
        "id": "K0oBcgj3J7Eb",
        "outputId": "bb87b4e3-6e7e-451b-8ae3-08729a7afb08"
      },
      "execution_count": 129,
      "outputs": [
        {
          "output_type": "stream",
          "name": "stdout",
          "text": [
            "Number of parameters: 23294\n"
          ]
        }
      ]
    },
    {
      "cell_type": "code",
      "source": [
        "stepi = []\n",
        "lossi = []\n",
        "\n",
        "batch_size = 32\n",
        "max_steps = 200000\n",
        "print_steps = 10000\n",
        "\n",
        "for i in range(max_steps):\n",
        "\n",
        "    ix = torch.randint(n, (batch_size, ))\n",
        "    Xb, Yb = Xtr[ix], Ytr[ix]\n",
        "\n",
        "    logits = model(Xb)\n",
        "    loss = F.cross_entropy(logits, Yb)\n",
        "\n",
        "    if i % print_steps == 0:\n",
        "        print(f\"step: {i}, loss: {loss}\")\n",
        "\n",
        "    for p in model.parameters():\n",
        "        p.grad = None\n",
        "\n",
        "    loss.backward()\n",
        "\n",
        "    lr = 0.1 if i < 100000 else 0.01\n",
        "\n",
        "    for p in model.parameters():\n",
        "        p.data += -lr * p.grad\n",
        "\n",
        "    stepi.append(i)\n",
        "    lossi.append(loss.item())"
      ],
      "metadata": {
        "colab": {
          "base_uri": "https://localhost:8080/"
        },
        "id": "b-QRmBOyKIp4",
        "outputId": "1c6be61e-217a-4f64-967a-db7ecd1c94a3"
      },
      "execution_count": 130,
      "outputs": [
        {
          "output_type": "stream",
          "name": "stdout",
          "text": [
            "step: 0, loss: 3.2958295345306396\n",
            "step: 10000, loss: 2.1692700386047363\n",
            "step: 20000, loss: 1.9554200172424316\n",
            "step: 30000, loss: 2.1338343620300293\n",
            "step: 40000, loss: 1.9819382429122925\n",
            "step: 50000, loss: 2.1684625148773193\n",
            "step: 60000, loss: 1.9362094402313232\n",
            "step: 70000, loss: 2.2136826515197754\n",
            "step: 80000, loss: 1.9798575639724731\n",
            "step: 90000, loss: 2.03904390335083\n",
            "step: 100000, loss: 1.9013460874557495\n",
            "step: 110000, loss: 2.1326072216033936\n",
            "step: 120000, loss: 1.8140379190444946\n",
            "step: 130000, loss: 2.0207772254943848\n",
            "step: 140000, loss: 1.9931190013885498\n",
            "step: 150000, loss: 1.4671200513839722\n",
            "step: 160000, loss: 2.0358757972717285\n",
            "step: 170000, loss: 1.9971435070037842\n",
            "step: 180000, loss: 1.8163961172103882\n",
            "step: 190000, loss: 2.146852970123291\n"
          ]
        }
      ]
    },
    {
      "cell_type": "code",
      "source": [
        "for layer in model.layers:\n",
        "    if isinstance(layer, BatchNorm1d):\n",
        "        layer.training = False\n",
        "\n",
        "with torch.no_grad():\n",
        "    logits = model(Xtr)\n",
        "    loss = F.cross_entropy(logits, Ytr)\n",
        "    print(f\"Training loss: {loss}\")\n",
        "\n",
        "with torch.no_grad():\n",
        "    logits = model(Xval)\n",
        "    loss = F.cross_entropy(logits, Yval)\n",
        "    print(f\"Validation loss: {loss}\")"
      ],
      "metadata": {
        "colab": {
          "base_uri": "https://localhost:8080/"
        },
        "id": "XmvFL8SCKPas",
        "outputId": "3a36cbac-ccb9-4f78-d435-b13677b8d574"
      },
      "execution_count": 131,
      "outputs": [
        {
          "output_type": "stream",
          "name": "stdout",
          "text": [
            "Training loss: 1.9325993061065674\n",
            "Validation loss: 2.0268492698669434\n"
          ]
        }
      ]
    },
    {
      "cell_type": "code",
      "source": [
        "for _ in range(10):\n",
        "    out = []\n",
        "    context = [0] * block_size\n",
        "    while True:\n",
        "        logits = model(torch.tensor([context]))\n",
        "        probs = F.softmax(logits, dim=1)\n",
        "        ix = torch.multinomial(probs, num_samples=1, replacement=True).item()\n",
        "        out.append(itos[ix])\n",
        "        context = context[1:] + [ix]\n",
        "        if ix ==0:\n",
        "            break\n",
        "\n",
        "    print(\"\".join(out))"
      ],
      "metadata": {
        "colab": {
          "base_uri": "https://localhost:8080/"
        },
        "id": "CQTHRPqyKTIG",
        "outputId": "5c5dd53d-68d8-4a4c-9fe6-247db16db48c"
      },
      "execution_count": 132,
      "outputs": [
        {
          "output_type": "stream",
          "name": "stdout",
          "text": [
            "jamethyn.\n",
            "alan.\n",
            "kourtte.\n",
            "raklainea.\n",
            "riklynn.\n",
            "brylee.\n",
            "josee.\n",
            "laydon.\n",
            "hawan.\n",
            "vaydna.\n"
          ]
        }
      ]
    },
    {
      "cell_type": "markdown",
      "source": [
        "# Additional Notes\n",
        "\n"
      ],
      "metadata": {
        "id": "rFGiFpuoBkHY"
      }
    },
    {
      "cell_type": "markdown",
      "source": [
        "## How to copy and paste multiple text cells and code cells together in Google Colab\n",
        "\n",
        "   - You can use `Ctrl` or `Cmd` in combination with arrow keys to select multiple cells quickly.\n",
        "   - After selecting, use `Ctrl + C` or `Cmd + C` to copy and `Ctrl + V` or `Cmd + V` to paste.\n",
        "   - Tip: This cell selection can also be used for moving groups of cells up and down the colab.\n",
        "\n",
        "\n"
      ],
      "metadata": {
        "id": "Olv9l3QHBnlr"
      }
    },
    {
      "cell_type": "markdown",
      "source": [
        "## Tidying up the noisy loss graph\n",
        "\n",
        "`plt.plot(torch.tensor(lossi).view(-1, 1000).mean(1))`\n",
        "\n",
        "This code snippet seems to be using the `matplotlib.pyplot` library (aliased as `plt`) to plot the moving average of a loss value over time. Let's break down the code step-by-step:\n",
        "\n",
        "**Assumptions:**\n",
        "\n",
        "* **`lossi`:** This is assumed to be a Python list or a 1-dimensional NumPy array containing loss values collected during the training of a machine learning model.\n",
        "\n",
        "**Explanation:**\n",
        "\n",
        "1. **`torch.tensor(lossi)`:** This part converts the `lossi` list or array into a PyTorch tensor. PyTorch tensors are preferred for numerical operations in deep learning due to their GPU acceleration capabilities.\n",
        "\n",
        "2. **`.view(-1, 1000)`:** This reshapes the tensor. Let's break it down:\n",
        "   - `.view()` is a PyTorch tensor method for reshaping tensors.\n",
        "   - `-1` is a placeholder. PyTorch will infer the appropriate size for this dimension based on the other dimension and the total number of elements.\n",
        "   - `1000` specifies that the second dimension should have a size of 1000.\n",
        "   - In essence, this line is trying to reshape the loss tensor into a matrix where each row contains 1000 loss values. If `lossi` doesn't have a multiple of 1000 elements, you might run into errors.\n",
        "\n",
        "3. **`.mean(1)`:** This calculates the mean along the second dimension (axis 1 in Python's zero-based indexing) of the reshaped tensor.  Since each row now represents a group of 1000 loss values, this operation effectively computes the average loss for every 1000 steps.\n",
        "\n",
        "\n",
        "**Purpose:**\n",
        "\n",
        "The primary goal of this code is to visualize the trend of the training loss over time. By calculating the moving average over windows of 1000 steps, the plot becomes less noisy and reveals the overall convergence behavior of the model during training.\n",
        "\n"
      ],
      "metadata": {
        "id": "eIkhVPU-im_l"
      }
    },
    {
      "cell_type": "markdown",
      "source": [
        "## Moving Average: Smoothing Out the Noise\n",
        "\n",
        "In Machine Learning you often deal with noisy data. A moving average is a simple yet powerful tool to smooth out fluctuations and highlight trends in data.  Imagine sliding a window of a fixed size over a dataset, calculating the average of the values within the window at each step. This \"moving\" average helps visualize the underlying pattern by reducing the impact of short-term fluctuations.\n",
        "\n",
        "**Here's how it works:**\n",
        "\n",
        "1. **Choose a window size (k):** This determines how many data points are considered for each average. Larger windows result in smoother curves but might mask important short-term variations.\n",
        "2. **Slide the window:** Move the window one step at a time across your data.\n",
        "3. **Calculate the average:** For each position of the window, calculate the average of the data points within it. This becomes the moving average value for that point.\n",
        "\n",
        "**Scenarios in Machine Learning where Moving Averages are useful:**\n",
        "\n",
        "**1. Time Series Analysis & Forecasting:**\n",
        "\n",
        "   - **Smoothing noisy data:** In financial markets or weather forecasting, moving averages help identify trends in stock prices or temperature fluctuations, respectively.\n",
        "\n",
        "   ```python\n",
        "   import torch\n",
        "\n",
        "   data = torch.tensor([2, 4, 3, 7, 5, 8, 6, 9, 7, 10]) # Example data\n",
        "   window_size = 3\n",
        "\n",
        "   def moving_average(data, window_size):\n",
        "     \"\"\"Calculates the moving average of the data.\"\"\"\n",
        "     cumsum = [0]\n",
        "     for i, x in enumerate(data, 1):\n",
        "         cumsum.append(cumsum[i-1] + x)\n",
        "     return torch.tensor([(cumsum[i] - cumsum[i-window_size])/window_size for i in range(window_size, len(data)+1)])\n",
        "\n",
        "   smoothed_data = moving_average(data, window_size)\n",
        "   print(f\"Original data: {data}\")\n",
        "   print(f\"Smoothed data: {smoothed_data}\")\n",
        "   ```\n",
        "\n",
        "   - **Feature Engineering:** Moving averages can create new features that capture short-term or long-term trends in data. For example, a 5-day moving average of stock prices can be a useful feature for predicting future stock movements.\n",
        "\n",
        "**2. Deep Learning:**\n",
        "\n",
        "   - **Optimizing Training:**  The Exponential Moving Average (EMA) of gradients is used in optimizers like Adam and RMSprop to stabilize and accelerate training convergence.\n",
        "\n",
        "   ```python\n",
        "   # Using EMA in optimizer\n",
        "   optimizer = torch.optim.Adam(model.parameters(), lr=learning_rate, betas=(0.9, 0.999))\n",
        "   ```\n",
        "\n",
        "   - **Evaluating Model Performance:** Moving averages can smooth out noisy validation loss curves during training, making it easier to track the learning progress.\n",
        "\n",
        "**3. Anomaly Detection:**\n",
        "\n",
        "   - By comparing the original data points with their moving averages, significant deviations can signal potential anomalies. This is helpful in fraud detection or system monitoring.\n",
        "\n",
        "**Different Types of Moving Averages:**\n",
        "\n",
        "* **Simple Moving Average (SMA):** Gives equal weight to all data points within the window.\n",
        "* **Exponential Moving Average (EMA):** Assigns higher weights to more recent data points, making it more responsive to recent changes.\n",
        "* **Cumulative Moving Average (CMA):**  Calculates the average of all data points up to the current point, constantly evolving.\n",
        "\n",
        "**Choosing the Right Window Size:**\n",
        "\n",
        "The optimal window size depends on the specific application and the data's characteristics.  Smaller windows are more sensitive to recent changes but might be susceptible to noise. Larger windows offer smoother curves but might lag behind rapid fluctuations.\n",
        "\n",
        "By understanding the concept of moving averages and their applications in various Machine Learning scenarios, you can effectively utilize this simple yet powerful tool to gain valuable insights from your data.\n",
        "\n",
        "\n",
        "\n"
      ],
      "metadata": {
        "id": "lhU0BUyHAb3k"
      }
    },
    {
      "cell_type": "markdown",
      "source": [
        "## Batch Normalization and Exponential Moving Average\n",
        "\n",
        "```python\n",
        "with torch.no_grad():\n",
        "  bnmean_running = 0.999 * bnmean_running + 0.001 * bnmeani\n",
        "  bnstd_running = 0.999 * bnstd_running + 0.001 * bnstdi\n",
        "\n",
        "with torch.no_grad():\n",
        "  self.running_mean = (1 - self.momentum) * self.running_mean + self.momentum * xmean\n",
        "  self.running_var = (1 - self.momentum) * self.running_var + self.momentum * xvar\n",
        "\n",
        "```\n",
        "\n",
        "\n",
        "While those code snippets resemble the moving average calculation, they are specifically implementing the **Exponential Moving Average (EMA)**, a close relative.\n",
        "\n",
        "Here's why:\n",
        "\n",
        "* **Weighting Scheme:**  A simple moving average gives equal weight to all points within the window. In contrast, EMA applies exponentially decreasing weights as we move further back in time. The code reflects this by giving a weight of `0.999` to the previous average (`bnmean_running`, `bnstd_running`, `self.running_mean`, `self.running_var`) and a much smaller weight of `0.001` to the current value (`bnmeani`, `bnstdi`, `xmean`, `xvar`).\n",
        "\n",
        "* **Recursive Calculation:** Instead of averaging over a fixed window, EMAs are calculated recursively. The current EMA depends on the previous EMA and the current data point.  This recursive nature is evident in the code (`running_mean = ...`, `running_var = ...`).\n",
        "\n",
        "**In Essence:**\n",
        "\n",
        "Both examples you provided are indeed using a form of moving average, but specifically the Exponential Moving Average (EMA), which is particularly valuable in:\n",
        "\n",
        "* **Batch Normalization:** The first snippet likely comes from a Batch Normalization layer implementation, where `bnmean_running` and `bnstd_running` are the running estimates of the batch mean and standard deviation, respectively.\n",
        "* **Optimizer Updates:** The second snippet could be part of an optimizer like Adam or RMSprop, using EMA to calculate running averages of gradient moments, which helps smooth the optimization process.\n",
        "\n",
        "**Key Takeaway:**\n",
        "\n",
        "While all EMAs are moving averages, not all moving averages are EMAs. The key difference lies in the weighting scheme and the recursive calculation.\n"
      ],
      "metadata": {
        "id": "EJNCdpqmHtxK"
      }
    }
  ]
}